{
 "cells": [
  {
   "cell_type": "code",
   "execution_count": 2,
   "metadata": {},
   "outputs": [],
   "source": [
    "import numpy as np\n",
    "import matplotlib.pyplot as plt\n",
    "import torch\n",
    "import torch.nn as nn\n",
    "import torch.nn.functional as F\n",
    "from util import *\n",
    "from h5py import File\n",
    "import glob\n",
    "from tqdm.notebook import tqdm"
   ]
  },
  {
   "cell_type": "code",
   "execution_count": 8,
   "metadata": {},
   "outputs": [],
   "source": [
    "def normalize(image):\n",
    "    image = (image - image.min()) / (image.max() - image.min() + 1e-8)\n",
    "    return image"
   ]
  },
  {
   "cell_type": "code",
   "execution_count": 3,
   "metadata": {},
   "outputs": [
    {
     "data": {
      "text/plain": [
       "['BraTS2019_00307.h5',\n",
       " 'BraTS2019_00023.h5',\n",
       " 'BraTS2019_00158.h5',\n",
       " 'BraTS2019_00295.h5',\n",
       " 'BraTS2019_00240.h5',\n",
       " 'BraTS2019_00219.h5',\n",
       " 'BraTS2019_00305.h5',\n",
       " 'BraTS2019_00108.h5',\n",
       " 'BraTS2019_00130.h5',\n",
       " 'BraTS2019_00267.h5',\n",
       " 'BraTS2019_00311.h5',\n",
       " 'BraTS2019_00007.h5',\n",
       " 'BraTS2019_00133.h5',\n",
       " 'BraTS2019_00167.h5',\n",
       " 'BraTS2019_00159.h5',\n",
       " 'BraTS2019_00301.h5',\n",
       " 'BraTS2019_00286.h5',\n",
       " 'BraTS2019_00145.h5',\n",
       " 'BraTS2019_00104.h5',\n",
       " 'BraTS2019_00057.h5']"
      ]
     },
     "execution_count": 3,
     "metadata": {},
     "output_type": "execute_result"
    }
   ],
   "source": [
    "with open('data/BraTS2019/val.list', 'r') as f:\n",
    "    tmp_list = f.readlines() \n",
    "val_cases = [item.replace(\"\\n\", \"\") for item in tmp_list]\n",
    "val_cases"
   ]
  },
  {
   "cell_type": "code",
   "execution_count": 12,
   "metadata": {},
   "outputs": [],
   "source": [
    "os.makedirs('data/BraTS2019/data/val_slices', exist_ok=True)"
   ]
  },
  {
   "cell_type": "code",
   "execution_count": 13,
   "metadata": {},
   "outputs": [],
   "source": [
    "root = 'data/BraTS2019/data/'\n",
    "for case in val_cases:\n",
    "    path = os.path.join(root, case)\n",
    "    assert os.path.exists(path), f'{path} not exists!'\n",
    "    f = File(path, 'r')\n",
    "    im3d = f[\"image\"][:]\n",
    "    lb3d = f[\"label\"][:]\n",
    "    for i in range(im3d.shape[0]):\n",
    "        slice_name = root + 'val_slices/' + case.split('.')[0] + '_' + str(i).zfill(3) + '.h5'\n",
    "        sf = File(slice_name, 'w')\n",
    "        sf.create_dataset(\"image\", data=normalize(im3d[i]), compression=\"gzip\")\n",
    "        sf.create_dataset(\"label\", data=normalize(lb3d[i]), compression=\"gzip\")\n",
    "        sf.close()"
   ]
  },
  {
   "cell_type": "code",
   "execution_count": 21,
   "metadata": {},
   "outputs": [
    {
     "data": {
      "application/vnd.jupyter.widget-view+json": {
       "model_id": "02ede0ee2f1f45e18d8fd26db0d74974",
       "version_major": 2,
       "version_minor": 0
      },
      "text/plain": [
       "  0%|          | 0/45967 [00:00<?, ?it/s]"
      ]
     },
     "metadata": {},
     "output_type": "display_data"
    }
   ],
   "source": [
    "train_slices = sorted(glob.glob(root + 'slices/*'))\n",
    "for s in tqdm(train_slices):\n",
    "    tf = File(s, 'r')\n",
    "    nf = File(root + 'train_slices/' + os.path.basename(s), 'w')\n",
    "    im = normalize(tf['image'][:])\n",
    "    nf.create_dataset('image', data=im, compression='gzip')\n",
    "    nf.create_dataset('label', data=tf['label'][:], compression='gzip')\n",
    "    tf.close()\n",
    "    nf.close()"
   ]
  },
  {
   "cell_type": "code",
   "execution_count": 26,
   "metadata": {},
   "outputs": [],
   "source": [
    "new_train_slices = sorted(glob.glob(root+'val_slices/*'))\n",
    "with open('data/BraTS2019/val_slices.list', 'w') as f:\n",
    "    for l in new_train_slices:\n",
    "        f.write(os.path.basename(l))\n",
    "        f.write('\\n')"
   ]
  },
  {
   "cell_type": "code",
   "execution_count": 7,
   "metadata": {},
   "outputs": [
    {
     "data": {
      "application/vnd.jupyter.widget-view+json": {
       "model_id": "6870a4d57855469da8204e884a593bb7",
       "version_major": 2,
       "version_minor": 0
      },
      "text/plain": [
       "  0%|          | 0/2762 [00:00<?, ?it/s]"
      ]
     },
     "metadata": {},
     "output_type": "display_data"
    },
    {
     "name": "stdout",
     "output_type": "stream",
     "text": [
      "0.99999964\n",
      "0.0\n",
      "8.1093574e-05\n",
      "1.0\n",
      "0.0\n",
      "0.010949727\n",
      "1.0\n",
      "0.0\n",
      "0.03808865\n",
      "1.0\n",
      "0.0\n",
      "0.060700677\n",
      "1.0\n",
      "0.0\n",
      "0.0665988\n",
      "1.0\n",
      "0.0\n",
      "0.07020764\n",
      "1.0\n",
      "0.0\n",
      "0.07451042\n",
      "1.0\n",
      "0.0\n",
      "0.07847209\n",
      "1.0\n",
      "0.0\n",
      "0.084911786\n",
      "1.0\n",
      "0.0\n",
      "0.09038725\n",
      "1.0\n",
      "0.0\n",
      "0.10566078\n",
      "1.0\n",
      "0.0\n",
      "0.11280403\n",
      "1.0\n",
      "0.0\n",
      "0.12240403\n",
      "1.0\n",
      "0.0\n",
      "0.11154427\n",
      "1.0\n",
      "0.0\n",
      "0.11660387\n",
      "1.0\n",
      "0.0\n",
      "0.13740632\n",
      "1.0\n",
      "0.0\n",
      "0.14187573\n",
      "1.0\n",
      "0.0\n",
      "0.14919287\n",
      "1.0\n",
      "0.0\n",
      "0.1717606\n",
      "1.0\n",
      "0.0\n",
      "0.1717318\n",
      "1.0\n",
      "0.0\n",
      "0.15659624\n"
     ]
    },
    {
     "data": {
      "text/plain": [
       "21"
      ]
     },
     "execution_count": 7,
     "metadata": {},
     "output_type": "execute_result"
    }
   ],
   "source": [
    "root = 'data/BraTS2019/data/'\n",
    "train_slices = sorted(glob.glob(root + 'val_slices/*'))\n",
    "cnt = 0\n",
    "for s in tqdm(train_slices):\n",
    "    tf = File(s, 'r')\n",
    "    img = tf[\"image\"][:]\n",
    "    print(img.max())\n",
    "    print(img.min())\n",
    "    print(img.mean())\n",
    "    cnt += 1\n",
    "    if cnt > 20:\n",
    "        break\n",
    "    tf.close()\n",
    "cnt"
   ]
  }
 ],
 "metadata": {
  "kernelspec": {
   "display_name": "Python 3.9.12 64-bit",
   "language": "python",
   "name": "python3"
  },
  "language_info": {
   "codemirror_mode": {
    "name": "ipython",
    "version": 3
   },
   "file_extension": ".py",
   "mimetype": "text/x-python",
   "name": "python",
   "nbconvert_exporter": "python",
   "pygments_lexer": "ipython3",
   "version": "3.9.12"
  },
  "orig_nbformat": 4,
  "vscode": {
   "interpreter": {
    "hash": "448c60747e7ce04bfef225ceb0b037f93919a769940cfe3c5278db7a5ae07e34"
   }
  }
 },
 "nbformat": 4,
 "nbformat_minor": 2
}
